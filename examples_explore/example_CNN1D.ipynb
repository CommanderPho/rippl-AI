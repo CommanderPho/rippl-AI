{
 "cells": [
  {
   "attachments": {},
   "cell_type": "markdown",
   "metadata": {},
   "source": [
    "# CNN1D parameter exploration\n",
    "This notebook is a template for finding the CNN1D model best suited for your needs\n",
    "\n",
    "This architecture is based in the CNN1D designed by A. Navas-Olivé (https://doi.org/10.7554/eLife.77772).\n",
    "This arquitecture is inspired by the UNet (https://doi.org/10.48550/arXiv.1505.04597) and YOLOR (https://doi.org/10.48550/arXiv.2105.04206)\n",
    "The 1st half uses convolution and MaxPooling to reduce the dimnensinality of the input, and the late half expands it"
   ]
  },
  {
   "cell_type": "code",
   "execution_count": 21,
   "metadata": {},
   "outputs": [
    {
     "data": {
      "text/plain": [
       "<module 'rippl_AI' from 'c:\\\\SWR_repo\\\\rippl_AI.py'>"
      ]
     },
     "execution_count": 21,
     "metadata": {},
     "output_type": "execute_result"
    }
   ],
   "source": [
    "import os\n",
    "import importlib\n",
    "import matplotlib.pyplot as plt\n",
    "import numpy as np\n",
    "import sys\n",
    "parent_dir=os.path.dirname(os.getcwd())\n",
    "sys.path.insert(0,parent_dir)\n",
    "import rippl_AI\n",
    "import aux_fcn\n",
    "importlib.reload(aux_fcn)\n",
    "importlib.reload(rippl_AI)"
   ]
  },
  {
   "attachments": {},
   "cell_type": "markdown",
   "metadata": {},
   "source": [
    "### Data download\n",
    "4 uLED sessions will be downloaded: Amigo2 and Som2 will be used for training ; Dlx1 and Thy7 for validation\n"
   ]
  },
  {
   "cell_type": "code",
   "execution_count": null,
   "metadata": {},
   "outputs": [],
   "source": [
    "from figshare.figshare.figshare import Figshare\n",
    "fshare = Figshare()\n",
    "\n",
    "article_ids = [16847521,16856137,14959449,14960085] \n",
    "sess=['Amigo2','Som2','Dlx1','Thy7']                                  \n",
    "for id,s in zip(article_ids,sess):\n",
    "    datapath = os.path.join(parent_dir,'Downloaded_data', f'{s}')\n",
    "    if os.path.isdir(datapath):\n",
    "        print(f\"{s} session already exists. Moving on.\")\n",
    "    else:\n",
    "        print(\"Downloading data... Please wait, this might take up some time\")        # Can take up to 10 minutes\n",
    "        fshare.retrieve_files_from_article(id,directory=datapath)\n",
    "        print(\"Data downloaded!\")"
   ]
  },
  {
   "attachments": {},
   "cell_type": "markdown",
   "metadata": {},
   "source": [
    "### Data load\n",
    "The training sessions' LFP will be appended together in a list. The same will happen with the ripples detection times.\n",
    "That is the required input for the training parser"
   ]
  },
  {
   "cell_type": "code",
   "execution_count": 2,
   "metadata": {},
   "outputs": [
    {
     "name": "stdout",
     "output_type": "stream",
     "text": [
      "c:\\SWR_repo\\Downloaded_data\\Amigo2\\figshare_16847521/hippo_2019-07-11_11-57-07_1150um_shank3.dat\n",
      "fileStart  0\n",
      "fileStop  1151451136\n",
      "nSamples  575725568\n",
      "nSamplesPerChannel  71965696\n",
      "nSamplesPerChunk  10000\n",
      "size data  71965696\n",
      "c:\\SWR_repo\\Downloaded_data\\Som2\\figshare_16856137/hippo_2019-07-24_12-01-49_1530um_shank3.dat\n",
      "fileStart  0\n",
      "fileStop  497401856\n",
      "nSamples  248700928\n",
      "nSamplesPerChannel  31087616\n",
      "nSamplesPerChunk  10000\n",
      "size data  31087616\n",
      "c:\\SWR_repo\\Downloaded_data\\Dlx1\\figshare_14959449/lfp_Dlx1-2021-02-12_12-46-54.dat\n",
      "fileStart  0\n",
      "fileStop  490242048\n",
      "nSamples  245121024\n",
      "nSamplesPerChannel  30640128\n",
      "nSamplesPerChunk  10000\n",
      "size data  30640128\n",
      "c:\\SWR_repo\\Downloaded_data\\Thy7\\figshare_14960085/lfp_Thy7-2020-11-11_16-05-00.dat\n",
      "fileStart  0\n",
      "fileStop  357220352\n",
      "nSamples  178610176\n",
      "nSamplesPerChannel  22326272\n",
      "nSamplesPerChunk  10000\n",
      "size data  22326272\n",
      "Original training data shape:  (71965696, 8)\n",
      "Downsampling data at 1250 Hz...\n",
      "Shape of downsampled data: (2998571, 8)\n",
      "Normalizing data...\n",
      "Original training data shape:  (31087616, 8)\n",
      "Downsampling data at 1250 Hz...\n",
      "Shape of downsampled data: (1295317, 8)\n",
      "Normalizing data...\n",
      "Original validation data shape:  (30640128, 8)\n",
      "Downsampling data at 1250 Hz...\n",
      "Shape of downsampled data: (1276672, 8)\n",
      "Normalizing data...\n",
      "Original validation data shape:  (22326272, 8)\n",
      "Downsampling data at 1250 Hz...\n",
      "Shape of downsampled data: (930261, 8)\n",
      "Normalizing data...\n"
     ]
    }
   ],
   "source": [
    "# The training sessions will be appended together. Replace this cell with your own data loading\n",
    "train_LFPs=[]\n",
    "train_GTs=[]\n",
    "# Amigo2\n",
    "path=os.path.join(parent_dir,'Downloaded_data','Amigo2','figshare_16847521')\n",
    "LFP,GT=aux_fcn.load_lab_data(path)\n",
    "train_LFPs.append(LFP)\n",
    "train_GTs.append(GT)\n",
    "# Som2\n",
    "path=os.path.join(parent_dir,'Downloaded_data','Som2','figshare_16856137')\n",
    "LFP,GT=aux_fcn.load_lab_data(path)\n",
    "train_LFPs.append(LFP)\n",
    "train_GTs.append(GT)\n",
    "\n",
    "## Append all your validation sessions\n",
    "val_LFPs=[]\n",
    "val_GTs=[]\n",
    "# Dlx1 Validation\n",
    "path=os.path.join(parent_dir,'Downloaded_data','Dlx1','figshare_14959449')\n",
    "LFP,GT=aux_fcn.load_lab_data(path)\n",
    "val_LFPs.append(LFP)\n",
    "val_GTs.append(GT)\n",
    "# Thy07 Validation\n",
    "path=os.path.join(parent_dir,'Downloaded_data','Thy7','figshare_14960085')\n",
    "LFP,GT=aux_fcn.load_lab_data(path)\n",
    "val_LFPs.append(LFP)\n",
    "val_GTs.append(GT)\n",
    "\n",
    "x_training,GT_training,x_val_list,GT_val_list=rippl_AI.prepare_training_data(train_LFPs,train_GTs,val_LFPs,val_GTs,sf=30000)"
   ]
  },
  {
   "attachments": {},
   "cell_type": "markdown",
   "metadata": {},
   "source": [
    "## CNN1D training parameters"
   ]
  },
  {
   "attachments": {},
   "cell_type": "markdown",
   "metadata": {},
   "source": [
    "#### Parameters:\n",
    "* Channels:  number of channels that will be used to train the model, extracted from the data shape defined in the previous cell\n",
    "* Timesteps: number of samples that the model will use to produce a single output\n",
    "* Configuration: list with as many elements as layers in the model shaped [number of kernels layers, kernel size and stride ]. The length size and the kernel layer were matched to reduce design complexity.\n",
    "* Epoch: number of times the training data set is used to train the model\n",
    "* Training batch: number of windows that are proccessed before weight updating"
   ]
  },
  {
   "cell_type": "code",
   "execution_count": 23,
   "metadata": {},
   "outputs": [],
   "source": [
    "conf= {\"timesteps\":   [16],        # 16, 32, 64 ...\n",
    "      \"configuration\":      [[[4,2],[2,1],[8,2],[4,1],[16,2],[8,1],[32,2]],  \n",
    "                     [[4,4],[2,1],[8,2],[4,1],[16,2],[8,1],[32,2]]],  \n",
    "      \"epochs\":      [1],         # 1, 2, 3, 5...\n",
    "      \"train_batch\": [2**5],      # 32, 64, 128...\n",
    "}"
   ]
  },
  {
   "attachments": {},
   "cell_type": "markdown",
   "metadata": {},
   "source": [
    "### Training"
   ]
  },
  {
   "cell_type": "code",
   "execution_count": 24,
   "metadata": {},
   "outputs": [
    {
     "name": "stdout",
     "output_type": "stream",
     "text": [
      "8 channels will be used to train the CNN1D models\n",
      "2 models will be trained\n",
      "Train Input and Output dimension (220312, 16, 8) (220312, 1)\n",
      "\n",
      "Iteration 1 out of 2\n",
      "Number of channels: 8, Time steps: 16,\n",
      "configuration: [[4, 2], [2, 1], [8, 2], [4, 1], [16, 2], [8, 1], [32, 2]]\n",
      "Epochs: 1, Samples per batch: 32\n"
     ]
    },
    {
     "ename": "IndexError",
     "evalue": "list index out of range",
     "output_type": "error",
     "traceback": [
      "\u001b[1;31m---------------------------------------------------------------------------\u001b[0m",
      "\u001b[1;31mIndexError\u001b[0m                                Traceback (most recent call last)",
      "Cell \u001b[1;32mIn[24], line 59\u001b[0m\n\u001b[0;32m     56\u001b[0m \u001b[39mprint\u001b[39m(\u001b[39mf\u001b[39m\u001b[39m\"\u001b[39m\u001b[39m\\n\u001b[39;00m\u001b[39mIteration \u001b[39m\u001b[39m{\u001b[39;00m\u001b[39miter\u001b[39m\u001b[39m+\u001b[39m\u001b[39m1\u001b[39m\u001b[39m}\u001b[39;00m\u001b[39m out of \u001b[39m\u001b[39m{\u001b[39;00mn_iters\u001b[39m}\u001b[39;00m\u001b[39m\"\u001b[39m)\n\u001b[0;32m     57\u001b[0m \u001b[39mprint\u001b[39m(\u001b[39mf\u001b[39m\u001b[39m'\u001b[39m\u001b[39mNumber of channels: \u001b[39m\u001b[39m{\u001b[39;00mn_channels\u001b[39m:\u001b[39;00m\u001b[39md\u001b[39m\u001b[39m}\u001b[39;00m\u001b[39m, Time steps: \u001b[39m\u001b[39m{\u001b[39;00mtimesteps\u001b[39m:\u001b[39;00m\u001b[39md\u001b[39m\u001b[39m}\u001b[39;00m\u001b[39m,\u001b[39m\u001b[39m\\n\u001b[39;00m\u001b[39mconfiguration: \u001b[39m\u001b[39m{\u001b[39;00mconfiguration\u001b[39m}\u001b[39;00m\u001b[39m\\n\u001b[39;00m\u001b[39mEpochs: \u001b[39m\u001b[39m{\u001b[39;00mepochs\u001b[39m:\u001b[39;00m\u001b[39md\u001b[39m\u001b[39m}\u001b[39;00m\u001b[39m, Samples per batch: \u001b[39m\u001b[39m{\u001b[39;00mtrain_batch\u001b[39m:\u001b[39;00m\u001b[39md\u001b[39m\u001b[39m}\u001b[39;00m\u001b[39m'\u001b[39m)\n\u001b[1;32m---> 59\u001b[0m model \u001b[39m=\u001b[39m aux_fcn\u001b[39m.\u001b[39;49mbuild_CNN1D(n_channels,timesteps,configuration)\n\u001b[0;32m     60\u001b[0m \u001b[39m# Training\u001b[39;00m\n\u001b[0;32m     61\u001b[0m model\u001b[39m.\u001b[39mfit(x_train, y_train,shuffle\u001b[39m=\u001b[39m\u001b[39mFalse\u001b[39;00m, epochs\u001b[39m=\u001b[39mepochs,batch_size\u001b[39m=\u001b[39mtrain_batch,validation_data\u001b[39m=\u001b[39m(x_test,y_test), verbose\u001b[39m=\u001b[39m\u001b[39m1\u001b[39m)\n",
      "File \u001b[1;32mc:\\SWR_repo\\aux_fcn.py:1047\u001b[0m, in \u001b[0;36mbuild_CNN1D\u001b[1;34m(n_channels, timesteps, conf)\u001b[0m\n\u001b[0;32m   1045\u001b[0m \t\to_shape_arr\u001b[39m.\u001b[39mappend(timesteps\u001b[39m/\u001b[39m\u001b[39m/\u001b[39mlayer_conf[\u001b[39m1\u001b[39m])\n\u001b[0;32m   1046\u001b[0m \t\u001b[39melse\u001b[39;00m:\n\u001b[1;32m-> 1047\u001b[0m \t\to_shape_arr\u001b[39m.\u001b[39mappend(o_shape_arr[i]\u001b[39m/\u001b[39m\u001b[39m/\u001b[39mlayer_conf[i]) \u001b[39m# The output shape of the layer n is the output of the n-1 layer /stride\u001b[39;00m\n\u001b[0;32m   1048\u001b[0m \u001b[39m#assert 0 not in o_shape_arr, \"\\nThe chosen kernel dimensionality will cause problems.\\nTry one of the following:\\n1. Increment time window (timesteps) size.\\n2. Decrement the 1st kernel size.\\n3. Decrement the rest of the kernels size\"\u001b[39;00m\n\u001b[0;32m   1050\u001b[0m \u001b[39massert\u001b[39;00m o_shape_arr[\u001b[39m-\u001b[39m\u001b[39m1\u001b[39m]\u001b[39m==\u001b[39m\u001b[39m1\u001b[39m, \u001b[39m'\u001b[39m\u001b[39m\\n\u001b[39;00m\u001b[39mThe output of the model is not shaped (1,1).\u001b[39m\u001b[39m\\n\u001b[39;00m\u001b[39mTry incrementing the kernel size of the final layers\u001b[39m\u001b[39m'\u001b[39m\n",
      "\u001b[1;31mIndexError\u001b[0m: list index out of range"
     ]
    }
   ],
   "source": [
    "# Desired sampling frequency of the models\n",
    "sf=1250\n",
    "th_arr=np.linspace(0.1,0.9,9)\n",
    "model_name_arr=[]           # To plot in the next cell\n",
    "model_arr=[]                # Actual model array, used in the next validation section\n",
    "n_channels=x_training.shape[1]\n",
    "timesteps_arr=conf['timesteps']\n",
    "\n",
    "config_arr=conf['configuration']\n",
    "epochs_arr=conf['epochs']\n",
    "train_batch_arr=conf['train_batch']   \n",
    "\n",
    "l_ts=len(timesteps_arr)\n",
    "l_conf=len(config_arr)\n",
    "l_epochs =len(epochs_arr)\n",
    "l_batch =len(train_batch_arr)\n",
    "n_iters=l_ts*l_conf*l_epochs*l_batch\n",
    "# GT is in the shape (n_events x 2), a y output signal with the same length as x is required\n",
    "perf_train_arr=np.zeros(shape=(n_iters,len(th_arr),3)) # Performance array, (n_models x n_th x 3 ) [P R F1]\n",
    "perf_test_arr=np.zeros_like(perf_train_arr)\n",
    "timesteps_arr_ploting=[]            # Array that will be used in the validation, to be able to call the function predict\n",
    "\n",
    "print(f'{n_channels} channels will be used to train the CNN1D models')\n",
    "\n",
    "print(f'{n_iters} models will be trained')\n",
    "\n",
    "x_test_or,GT_test,x_train_or,GT_train=aux_fcn.split_data(x_training,GT_training,split=0.7,sf=sf)\n",
    "\n",
    "y_test_or= np.zeros(shape=(len(x_test_or)))\n",
    "for ev in GT_test:\n",
    "    y_test_or[int(sf*ev[0]):int(sf*ev[1])]=1\n",
    "y_train_or= np.zeros(shape=(len(x_train_or)))\n",
    "for ev in GT_train:\n",
    "    y_train_or[int(sf*ev[0]):int(sf*ev[1])]=1\n",
    "\n",
    "\n",
    "for i_ts,timesteps in enumerate(timesteps_arr):\n",
    "    x_train=x_train_or[:len(x_train_or)-len(x_train_or)%timesteps].reshape(-1,timesteps,n_channels)\n",
    "    y_train_aux=y_train_or[:len(y_train_or)-len(y_train_or)%timesteps].reshape(-1,timesteps)\n",
    "    x_test=x_test_or[:len(x_test_or)-len(x_test_or)%timesteps].reshape(-1,timesteps,n_channels)\n",
    "    y_test_aux=y_test_or[:len(y_test_or)-len(y_test_or)%timesteps].reshape(-1,timesteps)\n",
    "\n",
    "    y_train=np.zeros(shape=[x_train.shape[0],1])\n",
    "    for i in range(y_train_aux.shape[0]):\n",
    "        y_train[i]=1  if any (y_train_aux[i]==1) else 0\n",
    "    print(\"Train Input and Output dimension\", x_train.shape,y_train.shape)\n",
    "    \n",
    "    y_test=np.zeros(shape=[x_test.shape[0],1])\n",
    "    for i in range(y_test_aux.shape[0]):\n",
    "        y_test[i]=1  if any (y_test_aux[i]==1) else 0\n",
    "\n",
    "    for i_conf, configuration in enumerate(config_arr):\n",
    "        for i_epochs,epochs in enumerate(epochs_arr):\n",
    "            for i_batch,train_batch in enumerate(train_batch_arr):\n",
    "                iter=((i_ts*l_conf+i_conf)*l_epochs + i_epochs)*l_batch + i_batch\n",
    "                print(f\"\\nIteration {iter+1} out of {n_iters}\")\n",
    "                print(f'Number of channels: {n_channels:d}, Time steps: {timesteps:d},\\nconfiguration: {configuration}\\nEpochs: {epochs:d}, Samples per batch: {train_batch:d}')\n",
    "\n",
    "                model = aux_fcn.build_CNN1D(n_channels,timesteps,configuration)\n",
    "                # Training\n",
    "                model.fit(x_train, y_train,shuffle=False, epochs=epochs,batch_size=train_batch,validation_data=(x_test,y_test), verbose=1)\n",
    "                model_arr.append(model)\n",
    "                # Prediction\n",
    "                test_signal = model.predict(x_test,verbose=1)\n",
    "                train_signal=model.predict(x_train,verbose=1)\n",
    "\n",
    "                y_train_predict=np.empty(shape=(x_train.shape[0]*timesteps,1,1))\n",
    "                for i,window in enumerate(train_signal):\n",
    "                    y_train_predict[i*timesteps:(i+1)*timesteps]=window\n",
    "                y_test_predict=np.empty(shape=(x_test.shape[0]*timesteps,1,1))\n",
    "                for i,window in enumerate(test_signal):\n",
    "                    y_test_predict[i*timesteps:(i+1)*timesteps]=window\n",
    "\n",
    "                ############################\n",
    "                for i,th in enumerate(th_arr):\n",
    "                    # Test\n",
    "                    ytest_pred_ind=aux_fcn.get_predictions_index(y_test_predict,th)/sf\n",
    "                    perf_test_arr[iter,i]=aux_fcn.get_performance(ytest_pred_ind,GT_test,0)[0:3]\n",
    "                    # Train\n",
    "                    ytrain_pred_ind=aux_fcn.get_predictions_index(y_train_predict,th)/sf\n",
    "                    perf_train_arr[iter,i]=aux_fcn.get_performance(ytrain_pred_ind,GT_train,0)[0:3]\n",
    "\n",
    "                    # Saving the model\n",
    "                    model_name=f\"CNN1D_Ch{n_channels:d}_Ts{timesteps:03d}_C{i_conf:02d}_E{epochs:02d}_TB{train_batch:04d}\"\n",
    "                    model.save(os.path.join(parent_dir,'explore_models',model_name))\n",
    "\n",
    "                    model_name_arr.append(model_name)\n",
    "                    timesteps_arr_ploting.append(timesteps)"
   ]
  },
  {
   "attachments": {},
   "cell_type": "markdown",
   "metadata": {},
   "source": [
    "### Plot training results"
   ]
  },
  {
   "cell_type": "code",
   "execution_count": 20,
   "metadata": {},
   "outputs": [
    {
     "ename": "IndexError",
     "evalue": "too many indices for array: array is 1-dimensional, but 2 were indexed",
     "output_type": "error",
     "traceback": [
      "\u001b[1;31m---------------------------------------------------------------------------\u001b[0m",
      "\u001b[1;31mIndexError\u001b[0m                                Traceback (most recent call last)",
      "Cell \u001b[1;32mIn[20], line 5\u001b[0m\n\u001b[0;32m      2\u001b[0m fig,axs\u001b[39m=\u001b[39mplt\u001b[39m.\u001b[39msubplots(n_iters,\u001b[39m2\u001b[39m,figsize\u001b[39m=\u001b[39m(\u001b[39m10\u001b[39m,\u001b[39m2\u001b[39m\u001b[39m*\u001b[39mn_iters),sharey\u001b[39m=\u001b[39m\u001b[39m'\u001b[39m\u001b[39mcol\u001b[39m\u001b[39m'\u001b[39m,sharex\u001b[39m=\u001b[39m\u001b[39m'\u001b[39m\u001b[39mcol\u001b[39m\u001b[39m'\u001b[39m)\n\u001b[0;32m      4\u001b[0m \u001b[39mfor\u001b[39;00m i \u001b[39min\u001b[39;00m \u001b[39mrange\u001b[39m(n_iters):\n\u001b[1;32m----> 5\u001b[0m     axs[i,\u001b[39m0\u001b[39;49m]\u001b[39m.\u001b[39mplot(perf_train_arr[i,:,\u001b[39m0\u001b[39m],perf_train_arr[i,:,\u001b[39m1\u001b[39m],\u001b[39m'\u001b[39m\u001b[39mk.-\u001b[39m\u001b[39m'\u001b[39m)\n\u001b[0;32m      6\u001b[0m     axs[i,\u001b[39m0\u001b[39m]\u001b[39m.\u001b[39mplot(perf_test_arr[i,:,\u001b[39m0\u001b[39m],perf_test_arr[i,:,\u001b[39m1\u001b[39m],\u001b[39m'\u001b[39m\u001b[39mb.-\u001b[39m\u001b[39m'\u001b[39m)\n\u001b[0;32m      7\u001b[0m     axs[i,\u001b[39m1\u001b[39m]\u001b[39m.\u001b[39mplot(th_arr,perf_train_arr[i,:,\u001b[39m2\u001b[39m],\u001b[39m'\u001b[39m\u001b[39mk.-\u001b[39m\u001b[39m'\u001b[39m)\n",
      "\u001b[1;31mIndexError\u001b[0m: too many indices for array: array is 1-dimensional, but 2 were indexed"
     ]
    },
    {
     "data": {
      "image/png": "[encoded data removed]",
      "text/plain": [
       "<Figure size 1000x200 with 2 Axes>"
      ]
     },
     "metadata": {},
     "output_type": "display_data"
    }
   ],
   "source": [
    "# Plot training results\n",
    "fig,axs=plt.subplots(n_iters,2,figsize=(10,2*n_iters),sharey='col',sharex='col')\n",
    "\n",
    "for i in range(n_iters):\n",
    "    axs[i,0].plot(perf_train_arr[i,:,0],perf_train_arr[i,:,1],'k.-')\n",
    "    axs[i,0].plot(perf_test_arr[i,:,0],perf_test_arr[i,:,1],'b.-')\n",
    "    axs[i,1].plot(th_arr,perf_train_arr[i,:,2],'k.-')\n",
    "    axs[i,1].plot(th_arr,perf_test_arr[i,:,2],'b.-')\n",
    "    axs[i,0].set_title(model_name_arr[i])\n",
    "    axs[i,0].set_ylabel('Precision')\n",
    "    axs[i,1].set_ylabel('F1')\n",
    "axs[-1,0].set_xlabel('Recall')\n",
    "axs[-1,1].set_xlabel('Threshold')\n",
    "axs[0,0].legend(['Training','Test'])\n",
    "plt.show()"
   ]
  },
  {
   "attachments": {},
   "cell_type": "markdown",
   "metadata": {},
   "source": [
    "### Validation"
   ]
  },
  {
   "cell_type": "code",
   "execution_count": null,
   "metadata": {},
   "outputs": [],
   "source": [
    "# For loop iterating over the models\n",
    "fig,axs=plt.subplots(n_iters,2,figsize=(10,2*n_iters),sharey='col',sharex='col')\n",
    "for n_m,model in enumerate(model_arr):\n",
    "    F1_arr=np.zeros(shape=(len(x_val_list),len(th_arr))) #(n_val_sess x n_th) Array where the F1 val of each sesion will be stored\n",
    "    for n_sess,LFP in enumerate(x_val_list):\n",
    "        val_pred=rippl_AI.predict(LFP,sf=1250,arch='CNN1D',new_model=model,n_channels=n_channels,n_timesteps=timesteps_arr_ploting[n_m])[0]\n",
    "        for i,th in enumerate(th_arr):\n",
    "            val_pred_ind=aux_fcn.get_predictions_index(val_pred,th)/sf\n",
    "            F1_arr[n_sess,i]=aux_fcn.get_performance(val_pred_ind,GT_val_list[n_sess],verbose=False)[2]\n",
    "    \n",
    "    axs[n_m,0].plot(th_arr,perf_train_arr[n_m,:,2],'k.-')\n",
    "    axs[n_m,0].plot(th_arr,perf_test_arr[n_m,:,2],'b.-')\n",
    "    for F1 in F1_arr:\n",
    "        axs[n_m,1].plot(th_arr,F1)\n",
    "    axs[n_m,1].plot(th_arr,np.mean(F1_arr,axis=0),'k.-')\n",
    "    axs[n_m,0].set_title(model_name_arr[n_m])\n",
    "    axs[n_m,0].set_ylabel('Precision')\n",
    "    axs[n_m,1].set_ylabel('F1')\n",
    "axs[-1,0].set_xlabel('Recall')\n",
    "axs[-1,1].set_xlabel('Threshold')\n",
    "plt.show()\n",
    "    "
   ]
  }
 ],
 "metadata": {
  "kernelspec": {
   "display_name": "PublicBCG_d",
   "language": "python",
   "name": "python3"
  },
  "language_info": {
   "codemirror_mode": {
    "name": "ipython",
    "version": 3
   },
   "file_extension": ".py",
   "mimetype": "text/x-python",
   "name": "python",
   "nbconvert_exporter": "python",
   "pygments_lexer": "ipython3",
   "version": "3.9.15"
  },
  "orig_nbformat": 4
 },
 "nbformat": 4,
 "nbformat_minor": 2
}
